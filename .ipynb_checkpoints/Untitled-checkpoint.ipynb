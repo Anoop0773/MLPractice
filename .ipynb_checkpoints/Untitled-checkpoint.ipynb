{
 "cells": [
  {
   "cell_type": "code",
   "execution_count": 18,
   "metadata": {},
   "outputs": [],
   "source": [
    "import pandas as pd\n",
    "import numpy as np\n",
    "from sklearn import linear_model\n",
    "import matplotlib.pyplot as plt\n",
    "\n"
   ]
  },
  {
   "cell_type": "code",
   "execution_count": 32,
   "metadata": {},
   "outputs": [],
   "source": [
    "# data = pd.read_fwf('linear_regression_demo-master/brain_body.txt'\n",
    "#                   )\n",
    "#print(data.head())\n",
    "# X = data[['Brain']]\n",
    "# Y = data[['Body']]\n",
    "\n",
    "# body_reg = linear_model.LinearRegression()\n",
    "# body_reg.fit(X,Y)\n",
    "\n",
    "#data = pd.read_fwf('linear_regression_demo/challenge_dataset.txt')\n"
   ]
  },
  {
   "cell_type": "code",
   "execution_count": 61,
   "metadata": {},
   "outputs": [
    {
     "data": {
      "text/plain": [
       "LinearRegression(copy_X=True, fit_intercept=True, n_jobs=1, normalize=False)"
      ]
     },
     "execution_count": 61,
     "metadata": {},
     "output_type": "execute_result"
    }
   ],
   "source": [
    "data = np.loadtxt('linear_regression_demo-master/challenge_dataset.txt',delimiter=\",\",skiprows=1,usecols=[0,1],dtype=float)\n",
    "#print(data)\n",
    "X = data[:,0]\n",
    "Y = data[:,1]\n",
    "\n",
    "body_brain = linear_model.LinearRegression()\n",
    "body_brain.fit([X],[Y])\n"
   ]
  },
  {
   "cell_type": "code",
   "execution_count": null,
   "metadata": {
    "collapsed": true
   },
   "outputs": [],
   "source": []
  }
 ],
 "metadata": {
  "kernelspec": {
   "display_name": "Python 3",
   "language": "python",
   "name": "python3"
  },
  "language_info": {
   "codemirror_mode": {
    "name": "ipython",
    "version": 3
   },
   "file_extension": ".py",
   "mimetype": "text/x-python",
   "name": "python",
   "nbconvert_exporter": "python",
   "pygments_lexer": "ipython3",
   "version": "3.6.3"
  }
 },
 "nbformat": 4,
 "nbformat_minor": 2
}
